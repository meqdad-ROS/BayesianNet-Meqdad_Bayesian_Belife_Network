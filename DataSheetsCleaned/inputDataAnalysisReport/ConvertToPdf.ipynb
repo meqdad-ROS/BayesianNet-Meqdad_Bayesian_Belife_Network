{
 "cells": [
  {
   "cell_type": "code",
   "execution_count": 2,
   "id": "59682043",
   "metadata": {},
   "outputs": [
    {
     "data": {
      "text/plain": [
       "True"
      ]
     },
     "execution_count": 2,
     "metadata": {},
     "output_type": "execute_result"
    }
   ],
   "source": [
    "import pdfkit\n",
    "\n",
    "\n",
    "pdfkit.from_file('<AllObjectivedata_Report>.html', 'AllObjectivedata_Report.pdf')#, configuration = config)  \n",
    "pdfkit.from_file('<AllSubjectiveData_Report>.html', 'AllSubjectiveData_Report.pdf')\n",
    "pdfkit.from_file('<AllSurveys_Report>.html', 'AllSurveys_Report.pdf')\n",
    "pdfkit.from_file('<RoomWiseData_Report>.html', 'RoomWiseData_Report.pdf')\n",
    "pdfkit.from_file('<survey01_Report>.html', 'survey01_Report.pdf')\n",
    "pdfkit.from_file('<survey02_Report>.html', 'survey02_Report.pdf')\n",
    "pdfkit.from_file('<survey03_Report>.html', 'survey03_Report.pdf')"
   ]
  },
  {
   "cell_type": "code",
   "execution_count": null,
   "id": "825f373e",
   "metadata": {},
   "outputs": [],
   "source": []
  }
 ],
 "metadata": {
  "kernelspec": {
   "display_name": "Python 3 (ipykernel)",
   "language": "python",
   "name": "python3"
  },
  "language_info": {
   "codemirror_mode": {
    "name": "ipython",
    "version": 3
   },
   "file_extension": ".py",
   "mimetype": "text/x-python",
   "name": "python",
   "nbconvert_exporter": "python",
   "pygments_lexer": "ipython3",
   "version": "3.9.13"
  }
 },
 "nbformat": 4,
 "nbformat_minor": 5
}
